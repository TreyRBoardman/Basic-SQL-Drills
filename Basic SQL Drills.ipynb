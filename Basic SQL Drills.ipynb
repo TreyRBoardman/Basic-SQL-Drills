{
 "cells": [
  {
   "cell_type": "markdown",
   "metadata": {},
   "source": [
    "## THINKFUL MODULE 10 - SQL DRILLS\n",
    "\n",
    "Using connection credentials provided below, create a Jupyter notebook that uses SQL Alchemy\n",
    "to access a SQL database containing data about Baseball Hall of Fame. Use Python to answer \n",
    "some basic questions about the data.\n",
    "\n",
    "To complete this challenge, you should submit a single text file that contains the SQL query \n",
    "required for each question. In some cases, you must also provide a specific answer. There are \n",
    "also some questions that require you to draw a schema of the relationships between the tables. \n",
    "Plan to spend some time reviewing your answers with your mentor during your next session."
   ]
  },
  {
   "cell_type": "code",
   "execution_count": 1,
   "metadata": {},
   "outputs": [],
   "source": [
    "# Import SQL ALchemy engine\n",
    "from sqlalchemy import create_engine"
   ]
  },
  {
   "cell_type": "code",
   "execution_count": 2,
   "metadata": {},
   "outputs": [],
   "source": [
    "# Database credentials\n",
    "postgres_user = 'dsbc_student'\n",
    "postgres_pw = '7*.8G9QH21'\n",
    "postgres_host = '142.93.121.174'\n",
    "postgres_port = '5432'\n",
    "postgres_db = 'baseball'\n",
    "\n",
    "# use the credentials to start a connection\n",
    "engine = create_engine('postgresql://{}:{}@{}:{}/{}'.format(\n",
    "   postgres_user, postgres_pw, postgres_host, postgres_port, postgres_db))"
   ]
  },
  {
   "cell_type": "markdown",
   "metadata": {},
   "source": [
    "Write a query that returns the __namefirst__ and __namelast__ fields of the __people__ table, \n",
    "   along with the __inducted__ field from the __hof_inducted__ table. \n",
    "   All rows from the __people__ table should be returned, and NULL values for the fields \n",
    "   from __hof_inducted__ should be returned when there is no match found."
   ]
  },
  {
   "cell_type": "code",
   "execution_count": 5,
   "metadata": {},
   "outputs": [],
   "source": [
    "sql = '''\n",
    "SELECT namefirst, namelast, inducted\n",
    "FROM people\n",
    "LEFT OUTER JOIN hof_inducted\n",
    "ON people.playerid = hof_inducted.playerid '''\n",
    "\n",
    "row_count = engine.execute(sql)\n",
    "engine.dispose()\n",
    "\n",
    "rows = row_count.fetchall()\n",
    "\n",
    "\n",
    "#print(rows)"
   ]
  },
  {
   "cell_type": "code",
   "execution_count": null,
   "metadata": {},
   "outputs": [],
   "source": []
  }
 ],
 "metadata": {
  "kernelspec": {
   "display_name": "Python 3",
   "language": "python",
   "name": "python3"
  },
  "language_info": {
   "codemirror_mode": {
    "name": "ipython",
    "version": 3
   },
   "file_extension": ".py",
   "mimetype": "text/x-python",
   "name": "python",
   "nbconvert_exporter": "python",
   "pygments_lexer": "ipython3",
   "version": "3.7.3"
  }
 },
 "nbformat": 4,
 "nbformat_minor": 4
}
